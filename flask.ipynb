{
  "nbformat": 4,
  "nbformat_minor": 0,
  "metadata": {
    "colab": {
      "provenance": [],
      "authorship_tag": "ABX9TyOCovYjYuj4vZHGlNiiOkf6",
      "include_colab_link": true
    },
    "kernelspec": {
      "name": "python3",
      "display_name": "Python 3"
    },
    "language_info": {
      "name": "python"
    }
  },
  "cells": [
    {
      "cell_type": "markdown",
      "metadata": {
        "id": "view-in-github",
        "colab_type": "text"
      },
      "source": [
        "<a href=\"https://colab.research.google.com/github/Manarsenic/interactive-flask-app/blob/main/flask.ipynb\" target=\"_parent\"><img src=\"https://colab.research.google.com/assets/colab-badge.svg\" alt=\"Open In Colab\"/></a>"
      ]
    },
    {
      "cell_type": "code",
      "source": [
        "!git clone https://github.com/Manarsenic/interactive-flask-app.git"
      ],
      "metadata": {
        "colab": {
          "base_uri": "https://localhost:8080/"
        },
        "id": "rKBSUIiumDwk",
        "outputId": "dd37f810-824c-49ae-8ad4-1aa9d6c76ff6"
      },
      "execution_count": 14,
      "outputs": [
        {
          "output_type": "stream",
          "name": "stdout",
          "text": [
            "Cloning into 'interactive-flask-app'...\n",
            "remote: Enumerating objects: 3, done.\u001b[K\n",
            "remote: Counting objects:  33% (1/3)\u001b[K\rremote: Counting objects:  66% (2/3)\u001b[K\rremote: Counting objects: 100% (3/3)\u001b[K\rremote: Counting objects: 100% (3/3), done.\u001b[K\n",
            "remote: Total 3 (delta 0), reused 0 (delta 0), pack-reused 0 (from 0)\u001b[K\n",
            "Receiving objects:  33% (1/3)\rReceiving objects:  66% (2/3)\rReceiving objects: 100% (3/3)\rReceiving objects: 100% (3/3), done.\n"
          ]
        }
      ]
    },
    {
      "cell_type": "code",
      "source": [
        "%%writefile interactive-flask-app/game.py\n",
        "\n",
        "def start_game():\n",
        "    print(\"You find yourself in a dark cave. You see a path to the left and a path to the right.\")\n",
        "    choice = input(\"Do you go left or right? \")\n",
        "\n",
        "    if choice.lower() == \"left\":\n",
        "        print(\"You find a hidden treasure chest! You win!\")\n",
        "    elif choice.lower() == \"right\":\n",
        "        explore_right_path()  # Call the new function for the right path\n",
        "    else:\n",
        "        print(\"Invalid choice. Please choose left or right.\")\n",
        "        start_game()\n",
        "\n",
        "def explore_right_path():\n",
        "    print(\"\\nYou enter a damp tunnel. You see a large boulder ahead and a small crevice to your side.\")\n",
        "    choice = input(\"Do you try to move the boulder or squeeze through the crevice? \")\n",
        "\n",
        "    if choice.lower() == \"boulder\":\n",
        "        print(\"The boulder is too heavy. As you push, the ground gives way and you fall into a pit. Game over.\")\n",
        "    elif choice.lower() == \"crevice\":\n",
        "        print(\"You squeeze through the crevice and find the lost treasure of the pirate king! You win!\")\n",
        "    else:\n",
        "        print(\"Invalid choice. Please choose 'boulder' or 'crevice'.\")\n",
        "        explore_right_path()\n",
        "\n",
        "# Start the game when the script is run\n",
        "if __name__ == \"__main__\":\n",
        "    start_game()"
      ],
      "metadata": {
        "id": "27w6NCfil1fz",
        "outputId": "4ebc2af8-a4cf-4318-8878-05c9ca2c72eb",
        "colab": {
          "base_uri": "https://localhost:8080/"
        }
      },
      "execution_count": 15,
      "outputs": [
        {
          "output_type": "stream",
          "name": "stdout",
          "text": [
            "Writing interactive-flask-app/game.py\n"
          ]
        }
      ]
    },
    {
      "cell_type": "code",
      "source": [
        "import os\n",
        "os.chdir('interactive-flask-app')\n",
        "!python game.py"
      ],
      "metadata": {
        "colab": {
          "base_uri": "https://localhost:8080/"
        },
        "id": "mN4kbGddmY10",
        "outputId": "d65e2bb3-e758-4da6-d462-e9b6d57771c5"
      },
      "execution_count": 16,
      "outputs": [
        {
          "output_type": "stream",
          "name": "stdout",
          "text": [
            "You find yourself in a dark cave. You see a path to the left and a path to the right.\n",
            "Do you go left or right? right\n",
            "\n",
            "You enter a damp tunnel. You see a large boulder ahead and a small crevice to your side.\n",
            "Do you try to move the boulder or squeeze through the crevice? move\n",
            "Invalid choice. Please choose 'boulder' or 'crevice'.\n",
            "\n",
            "You enter a damp tunnel. You see a large boulder ahead and a small crevice to your side.\n",
            "Do you try to move the boulder or squeeze through the crevice? squeeze through the crevice\n",
            "Invalid choice. Please choose 'boulder' or 'crevice'.\n",
            "\n",
            "You enter a damp tunnel. You see a large boulder ahead and a small crevice to your side.\n",
            "Do you try to move the boulder or squeeze through the crevice? boulder\n",
            "The boulder is too heavy. As you push, the ground gives way and you fall into a pit. Game over.\n"
          ]
        }
      ]
    }
  ]
}